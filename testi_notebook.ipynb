{
 "cells": [
  {
   "cell_type": "markdown",
   "metadata": {},
   "source": [
    "# Suomen 1. ja 2. lintuatlaksen tulokset"
   ]
  },
  {
   "cell_type": "markdown",
   "metadata": {},
   "source": [
    "Tuodaan sisään tilastojen käsittelyä helpottavat moduulit."
   ]
  },
  {
   "cell_type": "code",
   "execution_count": 4,
   "metadata": {},
   "outputs": [],
   "source": [
    "import pandas as pd\n",
    "import numpy as np\n",
    "import matplotlib as plt"
   ]
  },
  {
   "cell_type": "markdown",
   "metadata": {},
   "source": [
    "Lajit taulukko sisältää lajien nimet erikielillä, sekä lyhenteen jota käytetään muissa taulukoissa."
   ]
  },
  {
   "cell_type": "code",
   "execution_count": 21,
   "metadata": {},
   "outputs": [
    {
     "data": {
      "text/html": [
       "<div>\n",
       "<style scoped>\n",
       "    .dataframe tbody tr th:only-of-type {\n",
       "        vertical-align: middle;\n",
       "    }\n",
       "\n",
       "    .dataframe tbody tr th {\n",
       "        vertical-align: top;\n",
       "    }\n",
       "\n",
       "    .dataframe thead th {\n",
       "        text-align: right;\n",
       "    }\n",
       "</style>\n",
       "<table border=\"1\" class=\"dataframe\">\n",
       "  <thead>\n",
       "    <tr style=\"text-align: right;\">\n",
       "      <th></th>\n",
       "      <th>lyhenne</th>\n",
       "      <th>latina</th>\n",
       "      <th>suomi</th>\n",
       "      <th>ruotsi</th>\n",
       "      <th>englanti</th>\n",
       "      <th>julkisuus</th>\n",
       "    </tr>\n",
       "  </thead>\n",
       "  <tbody>\n",
       "    <tr>\n",
       "      <th>0</th>\n",
       "      <td>CYGOLO</td>\n",
       "      <td>Cygnus olor</td>\n",
       "      <td>Kyhmyjoutsen</td>\n",
       "      <td>Knölsvan</td>\n",
       "      <td>Mute Swan</td>\n",
       "      <td>1</td>\n",
       "    </tr>\n",
       "    <tr>\n",
       "      <th>1</th>\n",
       "      <td>CYGCYG</td>\n",
       "      <td>Cygnus cygnus</td>\n",
       "      <td>Laulujoutsen</td>\n",
       "      <td>Sångsvan</td>\n",
       "      <td>Whooper Swan</td>\n",
       "      <td>1</td>\n",
       "    </tr>\n",
       "    <tr>\n",
       "      <th>2</th>\n",
       "      <td>ANSFAB</td>\n",
       "      <td>Anser fabalis</td>\n",
       "      <td>Metsähanhi</td>\n",
       "      <td>Sädgås</td>\n",
       "      <td>Bean Goose</td>\n",
       "      <td>1</td>\n",
       "    </tr>\n",
       "    <tr>\n",
       "      <th>3</th>\n",
       "      <td>ANSERY</td>\n",
       "      <td>Anser erythropus</td>\n",
       "      <td>Kiljuhanhi</td>\n",
       "      <td>Fjällgås</td>\n",
       "      <td>Lesser White-fronted Goose</td>\n",
       "      <td>0</td>\n",
       "    </tr>\n",
       "    <tr>\n",
       "      <th>4</th>\n",
       "      <td>ANSANS</td>\n",
       "      <td>Anser anser</td>\n",
       "      <td>Merihanhi</td>\n",
       "      <td>Grågås</td>\n",
       "      <td>Greylag Goose</td>\n",
       "      <td>1</td>\n",
       "    </tr>\n",
       "  </tbody>\n",
       "</table>\n",
       "</div>"
      ],
      "text/plain": [
       "  lyhenne            latina         suomi    ruotsi  \\\n",
       "0  CYGOLO       Cygnus olor  Kyhmyjoutsen  Knölsvan   \n",
       "1  CYGCYG     Cygnus cygnus  Laulujoutsen  Sångsvan   \n",
       "2  ANSFAB     Anser fabalis    Metsähanhi    Sädgås   \n",
       "3  ANSERY  Anser erythropus    Kiljuhanhi  Fjällgås   \n",
       "4  ANSANS       Anser anser     Merihanhi    Grågås   \n",
       "\n",
       "                     englanti  julkisuus  \n",
       "0                   Mute Swan          1  \n",
       "1                Whooper Swan          1  \n",
       "2                  Bean Goose          1  \n",
       "3  Lesser White-fronted Goose          0  \n",
       "4               Greylag Goose          1  "
      ]
     },
     "execution_count": 21,
     "metadata": {},
     "output_type": "execute_result"
    }
   ],
   "source": [
    "lajit_header=[\"lyhenne\",\"latina\",\"suomi\",\"ruotsi\",\"englanti\",\"julkisuus\"]\n",
    "lajit=pd.read_csv('./data/lajit.csv', encoding='iso8859_10',names=lajit_header)\n",
    "lajit.head()"
   ]
  },
  {
   "cell_type": "markdown",
   "metadata": {},
   "source": [
    "Ruudut taulukossa on ruutujen koordinaatit pohjois (P) ja itä (E) suunnissa, sekä ruudun selvitys asteet asteikolla 0-5 (0 -> \"ei havaintoja\", 5 -> \"erinomaiset havainnot\"). 1. Atlas v1974-79 ja 2. atlas v1986-89."
   ]
  },
  {
   "cell_type": "code",
   "execution_count": 23,
   "metadata": {},
   "outputs": [
    {
     "data": {
      "text/html": [
       "<div>\n",
       "<style scoped>\n",
       "    .dataframe tbody tr th:only-of-type {\n",
       "        vertical-align: middle;\n",
       "    }\n",
       "\n",
       "    .dataframe tbody tr th {\n",
       "        vertical-align: top;\n",
       "    }\n",
       "\n",
       "    .dataframe thead th {\n",
       "        text-align: right;\n",
       "    }\n",
       "</style>\n",
       "<table border=\"1\" class=\"dataframe\">\n",
       "  <thead>\n",
       "    <tr style=\"text-align: right;\">\n",
       "      <th></th>\n",
       "      <th>N-koord</th>\n",
       "      <th>E-koord</th>\n",
       "      <th>aste-1.atlas</th>\n",
       "      <th>aste-2.atlas</th>\n",
       "      <th>yhdistetty</th>\n",
       "    </tr>\n",
       "  </thead>\n",
       "  <tbody>\n",
       "    <tr>\n",
       "      <th>0</th>\n",
       "      <td>663</td>\n",
       "      <td>318</td>\n",
       "      <td>2</td>\n",
       "      <td>3</td>\n",
       "      <td>3</td>\n",
       "    </tr>\n",
       "    <tr>\n",
       "      <th>1</th>\n",
       "      <td>663</td>\n",
       "      <td>319</td>\n",
       "      <td>2</td>\n",
       "      <td>2</td>\n",
       "      <td>3</td>\n",
       "    </tr>\n",
       "    <tr>\n",
       "      <th>2</th>\n",
       "      <td>663</td>\n",
       "      <td>320</td>\n",
       "      <td>1</td>\n",
       "      <td>2</td>\n",
       "      <td>2</td>\n",
       "    </tr>\n",
       "    <tr>\n",
       "      <th>3</th>\n",
       "      <td>663</td>\n",
       "      <td>321</td>\n",
       "      <td>4</td>\n",
       "      <td>4</td>\n",
       "      <td>4</td>\n",
       "    </tr>\n",
       "    <tr>\n",
       "      <th>4</th>\n",
       "      <td>663</td>\n",
       "      <td>322</td>\n",
       "      <td>4</td>\n",
       "      <td>4</td>\n",
       "      <td>5</td>\n",
       "    </tr>\n",
       "  </tbody>\n",
       "</table>\n",
       "</div>"
      ],
      "text/plain": [
       "   N-koord  E-koord  aste-1.atlas  aste-2.atlas  yhdistetty\n",
       "0      663      318             2             3           3\n",
       "1      663      319             2             2           3\n",
       "2      663      320             1             2           2\n",
       "3      663      321             4             4           4\n",
       "4      663      322             4             4           5"
      ]
     },
     "execution_count": 23,
     "metadata": {},
     "output_type": "execute_result"
    }
   ],
   "source": [
    "ruudut_header=[\"N-koord\",\"E-koord\",\"aste-1.atlas\",\"aste-2.atlas\",\"yhdistetty\"]\n",
    "ruudut=pd.read_csv('./data/ruudut.csv',header=None, names=ruudut_header)\n",
    "ruudut.head()"
   ]
  },
  {
   "cell_type": "code",
   "execution_count": 20,
   "metadata": {},
   "outputs": [
    {
     "data": {
      "text/html": [
       "<div>\n",
       "<style scoped>\n",
       "    .dataframe tbody tr th:only-of-type {\n",
       "        vertical-align: middle;\n",
       "    }\n",
       "\n",
       "    .dataframe tbody tr th {\n",
       "        vertical-align: top;\n",
       "    }\n",
       "\n",
       "    .dataframe thead th {\n",
       "        text-align: right;\n",
       "    }\n",
       "</style>\n",
       "<table border=\"1\" class=\"dataframe\">\n",
       "  <thead>\n",
       "    <tr style=\"text-align: right;\">\n",
       "      <th></th>\n",
       "      <th>lyhenne</th>\n",
       "      <th>N-koord</th>\n",
       "      <th>E-koord</th>\n",
       "      <th>pesiminen-1</th>\n",
       "      <th>pesiminen-2</th>\n",
       "      <th>pesiminen-1_2</th>\n",
       "    </tr>\n",
       "  </thead>\n",
       "  <tbody>\n",
       "    <tr>\n",
       "      <th>0</th>\n",
       "      <td>CYGOLO</td>\n",
       "      <td>663</td>\n",
       "      <td>319</td>\n",
       "      <td>0</td>\n",
       "      <td>4</td>\n",
       "      <td>4</td>\n",
       "    </tr>\n",
       "    <tr>\n",
       "      <th>1</th>\n",
       "      <td>CYGOLO</td>\n",
       "      <td>663</td>\n",
       "      <td>320</td>\n",
       "      <td>0</td>\n",
       "      <td>1</td>\n",
       "      <td>1</td>\n",
       "    </tr>\n",
       "    <tr>\n",
       "      <th>2</th>\n",
       "      <td>CYGOLO</td>\n",
       "      <td>663</td>\n",
       "      <td>322</td>\n",
       "      <td>4</td>\n",
       "      <td>4</td>\n",
       "      <td>4</td>\n",
       "    </tr>\n",
       "    <tr>\n",
       "      <th>3</th>\n",
       "      <td>CYGOLO</td>\n",
       "      <td>663</td>\n",
       "      <td>323</td>\n",
       "      <td>2</td>\n",
       "      <td>3</td>\n",
       "      <td>3</td>\n",
       "    </tr>\n",
       "    <tr>\n",
       "      <th>4</th>\n",
       "      <td>CYGOLO</td>\n",
       "      <td>663</td>\n",
       "      <td>324</td>\n",
       "      <td>4</td>\n",
       "      <td>4</td>\n",
       "      <td>4</td>\n",
       "    </tr>\n",
       "  </tbody>\n",
       "</table>\n",
       "</div>"
      ],
      "text/plain": [
       "  lyhenne  N-koord  E-koord  pesiminen-1  pesiminen-2  pesiminen-1_2\n",
       "0  CYGOLO      663      319            0            4              4\n",
       "1  CYGOLO      663      320            0            1              1\n",
       "2  CYGOLO      663      322            4            4              4\n",
       "3  CYGOLO      663      323            2            3              3\n",
       "4  CYGOLO      663      324            4            4              4"
      ]
     },
     "execution_count": 20,
     "metadata": {},
     "output_type": "execute_result"
    }
   ],
   "source": [
    "havainnot_header=[\"lyhenne\",\"N-koord\",\"E-koord\",\"pesiminen-1\",\"pesiminen-2\",\"pesiminen-1_2\"]\n",
    "havainnot=pd.read_csv('./data/havainnot.csv',header=None, names=havainnot_header)\n",
    "havainnot.head()"
   ]
  },
  {
   "cell_type": "code",
   "execution_count": null,
   "metadata": {},
   "outputs": [],
   "source": []
  }
 ],
 "metadata": {
  "kernelspec": {
   "display_name": "Python 3",
   "language": "python",
   "name": "python3"
  },
  "language_info": {
   "codemirror_mode": {
    "name": "ipython",
    "version": 3
   },
   "file_extension": ".py",
   "mimetype": "text/x-python",
   "name": "python",
   "nbconvert_exporter": "python",
   "pygments_lexer": "ipython3",
   "version": "3.6.8"
  }
 },
 "nbformat": 4,
 "nbformat_minor": 2
}
